{
  "nbformat": 4,
  "nbformat_minor": 0,
  "metadata": {
    "colab": {
      "name": "JsonBasedIMS.ipynb",
      "provenance": [],
      "authorship_tag": "ABX9TyN9LWX5r6c7GWMNoP7WYLQI",
      "include_colab_link": true
    },
    "kernelspec": {
      "name": "python3",
      "display_name": "Python 3"
    },
    "language_info": {
      "name": "python"
    }
  },
  "cells": [
    {
      "cell_type": "markdown",
      "metadata": {
        "id": "view-in-github",
        "colab_type": "text"
      },
      "source": [
        "<a href=\"https://colab.research.google.com/github/SmritiKaur/Learning/blob/main/JsonBasedIMS.ipynb\" target=\"_parent\"><img src=\"https://colab.research.google.com/assets/colab-badge.svg\" alt=\"Open In Colab\"/></a>"
      ]
    },
    {
      "cell_type": "code",
      "metadata": {
        "colab": {
          "base_uri": "https://localhost:8080/"
        },
        "id": "VYvji5YX9cSK",
        "outputId": "e6bb10ed-6327-49d8-cb18-2679acb66638"
      },
      "source": [
        "record = {\n",
        "          11111: {\"Name Of Product\": \"Maggi1\", \"Mfg date\": \"07-02-21\", \"Exp date\": \"07-11-21\", \"Category\": \"Instant Food\", \"Price in rupees\": 21.0, \"Qty in Stock\": 500},\n",
        "          22222: {\"Name Of Product\": \"Maggi2\", \"Mfg date\": \"07-02-21\", \"Exp date\": \"07-11-21\", \"Category\": \"Snacks\", \"Price in rupees\": 21.0, \"Qty in Stock\": 500},\n",
        "          33333: {\"Name Of Product\": \"Maggi3\", \"Mfg date\": \"07-02-21\", \"Exp date\": \"07-11-21\", \"Category\": \"Instant Food\", \"Price in rupees\": 21.0, \"Qty in Stock\": 500},\n",
        "          44444: {\"Name Of Product\": \"Maggi4\", \"Mfg date\": \"07-02-21\", \"Exp date\": \"07-11-21\", \"Category\": \"Dessert\", \"Price in rupees\": 21.0, \"Qty in Stock\": 500},\n",
        "          55555: {\"Name Of Product\": \"Maggi5\", \"Mfg date\": \"07-02-21\", \"Exp date\": \"07-11-21\", \"Category\": \"Legumes\", \"Price in rupees\": 21.0, \"Qty in Stock\": 500},\n",
        "          66666: {\"Name Of Product\": \"Maggi6\", \"Mfg date\": \"07-02-21\", \"Exp date\": \"07-11-21\", \"Category\": \"Instant Food\", \"Price in rupees\": 21.0, \"Qty in Stock\": 500},\n",
        "          77777: {\"Name Of Product\": \"Maggi7\", \"Mfg date\": \"07-02-21\", \"Exp date\": \"07-11-21\", \"Category\": \"Instant Food\", \"Price in rupees\": 21.0, \"Qty in Stock\": 500},\n",
        "          88888: {\"Name Of Product\": \"Maggi8\", \"Mfg date\": \"07-02-21\", \"Exp date\": \"07-11-21\", \"Category\": \"Instant Food\", \"Price in rupees\": 21.0, \"Qty in Stock\": 500},\n",
        "          99999: {\"Name Of Product\": \"Maggi9\", \"Mfg date\": \"07-02-21\", \"Exp date\": \"07-11-21\", \"Category\": \"Beverages\", \"Price in rupees\": 21.0, \"Qty in Stock\": 500},\n",
        "          10101: {\"Name Of Product\": \"Maggi10\", \"Mfg date\": \"07-02-21\", \"Exp date\": \"07-11-21\", \"Category\": \"Instant Food\", \"Price in rupees\": 21.0, \"Qty in Stock\": 500},\n",
        "          11011: {\"Name Of Product\": \"Maggi11\", \"Mfg date\": \"07-02-21\", \"Exp date\": \"07-11-21\", \"Category\": \"Instant Food\", \"Price in rupees\": 21.0, \"Qty in Stock\": 500},\n",
        "          12121: {\"Name Of Product\": \"Maggi12\", \"Mfg date\": \"07-02-21\", \"Exp date\": \"07-11-21\", \"Category\": \"Soft Drinks\", \"Price in rupees\": 21.0, \"Qty in Stock\": 500},\n",
        "          13131: {\"Name Of Product\": \"Maggi13\", \"Mfg date\": \"07-02-21\", \"Exp date\": \"07-11-21\", \"Category\": \"Instant Food\", \"Price in rupees\": 21.0, \"Qty in Stock\": 500},\n",
        "          14141: {\"Name Of Product\": \"Maggi14\", \"Mfg date\": \"07-02-21\", \"Exp date\": \"07-11-21\", \"Category\": \"Instant Food\", \"Price in rupees\": 21.0, \"Qty in Stock\": 500},\n",
        "          15151: {\"Name Of Product\": \"Maggi15\", \"Mfg date\": \"07-02-21\", \"Exp date\": \"07-11-21\", \"Category\": \"Instant Food\", \"Price in rupees\": 21.0, \"Qty in Stock\": 500},\n",
        "          16161: {\"Name Of Product\": \"Maggi16\", \"Mfg date\": \"07-02-21\", \"Exp date\": \"07-11-21\", \"Category\": \"Instant Food\", \"Price in rupees\": 21.0, \"Qty in Stock\": 500},\n",
        "          17171: {\"Name Of Product\": \"Maggi17\", \"Mfg date\": \"07-02-21\", \"Exp date\": \"07-11-21\", \"Category\": \"Ration\", \"Price in rupees\": 21.0, \"Qty in Stock\": 500},\n",
        "          18181: {\"Name Of Product\": \"Maggi18\", \"Mfg date\": \"07-02-21\", \"Exp date\": \"07-11-21\", \"Category\": \"Instant Food\", \"Price in rupees\": 21.0, \"Qty in Stock\": 500},\n",
        "          19191: {\"Name Of Product\": \"Maggi19\", \"Mfg date\": \"07-02-21\", \"Exp date\": \"07-11-21\", \"Category\": \"Sweets\", \"Price in rupees\": 21.0, \"Qty in Stock\": 500},\n",
        "          20202: {\"Name Of Product\": \"Maggi20\", \"Mfg date\": \"07-02-21\", \"Exp date\": \"07-11-21\", \"Category\": \"Instant Food\", \"Price in rupees\": 21.0, \"Qty in Stock\": 500},\n",
        "          21212: {\"Name Of Product\": \"Maggi21\", \"Mfg date\": \"07-02-21\", \"Exp date\": \"07-11-21\", \"Category\": \"Candies\", \"Price in rupees\": 21.0, \"Qty in Stock\": 500},\n",
        "          22022: {\"Name Of Product\": \"Maggi22\", \"Mfg date\": \"07-02-21\", \"Exp date\": \"07-11-21\", \"Category\": \"Instant Food\", \"Price in rupees\": 21.0, \"Qty in Stock\": 500},\n",
        "          23232: {\"Name Of Product\": \"Maggi23\", \"Mfg date\": \"07-02-21\", \"Exp date\": \"07-11-21\", \"Category\": \"Snacks\", \"Price in rupees\": 21.0, \"Qty in Stock\": 500},\n",
        "          24242: {\"Name Of Product\": \"Maggi24\", \"Mfg date\": \"07-02-21\", \"Exp date\": \"07-11-21\", \"Category\": \"Chocolates\", \"Price in rupees\": 21.0, \"Qty in Stock\": 500},\n",
        "          25252: {\"Name Of Product\": \"Maggi25\", \"Mfg date\": \"07-02-21\", \"Exp date\": \"07-11-21\", \"Category\": \"Breakfast items\", \"Price in rupees\": 21.0, \"Qty in Stock\": 500},\n",
        "          26262: {\"Name Of Product\": \"Maggi26\", \"Mfg date\": \"07-02-21\", \"Exp date\": \"07-11-21\", \"Category\": \"Fast food\", \"Price in rupees\": 21.0, \"Qty in Stock\": 500},\n",
        "          27272: {\"Name Of Product\": \"Maggi27\", \"Mfg date\": \"07-02-21\", \"Exp date\": \"07-11-21\", \"Category\": \"Instant Food\", \"Price in rupees\": 21.0, \"Qty in Stock\": 500},\n",
        "          28282: {\"Name Of Product\": \"Maggi28\", \"Mfg date\": \"07-02-21\", \"Exp date\": \"07-11-21\", \"Category\": \"Soft drinks\", \"Price in rupees\": 21.0, \"Qty in Stock\": 500},\n",
        "          29292: {\"Name Of Product\": \"Maggi29\", \"Mfg date\": \"07-02-21\", \"Exp date\": \"07-11-21\", \"Category\": \"Instant Food\", \"Price in rupees\": 21.0, \"Qty in Stock\": 500},\n",
        "          30303: {\"Name Of Product\": \"Maggi30\", \"Mfg date\": \"07-02-21\", \"Exp date\": \"07-11-21\", \"Category\": \"Instant Food\", \"Price in rupees\": 21.0, \"Qty in Stock\": 500}\n",
        "        }\n",
        "\n",
        " #ORIGINAL RECORD\n",
        "import json\n",
        "js = json.dumps(record)\n",
        "fd = open(\"record.json\",'w')\n",
        "fd.write(js)\n",
        "fd.close()\n",
        "fd = open(\"record.json\", 'r')\n",
        "original_record = fd.read()\n",
        "fd.close()\n",
        "print(\"Original record of Inventory: \", original_record)\n",
        "record = json.loads(original_record)\n",
        "       "
      ],
      "execution_count": 30,
      "outputs": [
        {
          "output_type": "stream",
          "name": "stdout",
          "text": [
            "Original record of Inventory:  {\"11111\": {\"Name Of Product\": \"Maggi1\", \"Mfg date\": \"07-02-21\", \"Exp date\": \"07-11-21\", \"Category\": \"Instant Food\", \"Price in rupees\": 21.0, \"Qty in Stock\": 500}, \"22222\": {\"Name Of Product\": \"Maggi2\", \"Mfg date\": \"07-02-21\", \"Exp date\": \"07-11-21\", \"Category\": \"Snacks\", \"Price in rupees\": 21.0, \"Qty in Stock\": 500}, \"33333\": {\"Name Of Product\": \"Maggi3\", \"Mfg date\": \"07-02-21\", \"Exp date\": \"07-11-21\", \"Category\": \"Instant Food\", \"Price in rupees\": 21.0, \"Qty in Stock\": 500}, \"44444\": {\"Name Of Product\": \"Maggi4\", \"Mfg date\": \"07-02-21\", \"Exp date\": \"07-11-21\", \"Category\": \"Dessert\", \"Price in rupees\": 21.0, \"Qty in Stock\": 500}, \"55555\": {\"Name Of Product\": \"Maggi5\", \"Mfg date\": \"07-02-21\", \"Exp date\": \"07-11-21\", \"Category\": \"Legumes\", \"Price in rupees\": 21.0, \"Qty in Stock\": 500}, \"66666\": {\"Name Of Product\": \"Maggi6\", \"Mfg date\": \"07-02-21\", \"Exp date\": \"07-11-21\", \"Category\": \"Instant Food\", \"Price in rupees\": 21.0, \"Qty in Stock\": 500}, \"77777\": {\"Name Of Product\": \"Maggi7\", \"Mfg date\": \"07-02-21\", \"Exp date\": \"07-11-21\", \"Category\": \"Instant Food\", \"Price in rupees\": 21.0, \"Qty in Stock\": 500}, \"88888\": {\"Name Of Product\": \"Maggi8\", \"Mfg date\": \"07-02-21\", \"Exp date\": \"07-11-21\", \"Category\": \"Instant Food\", \"Price in rupees\": 21.0, \"Qty in Stock\": 500}, \"99999\": {\"Name Of Product\": \"Maggi9\", \"Mfg date\": \"07-02-21\", \"Exp date\": \"07-11-21\", \"Category\": \"Beverages\", \"Price in rupees\": 21.0, \"Qty in Stock\": 500}, \"10101\": {\"Name Of Product\": \"Maggi10\", \"Mfg date\": \"07-02-21\", \"Exp date\": \"07-11-21\", \"Category\": \"Instant Food\", \"Price in rupees\": 21.0, \"Qty in Stock\": 500}, \"11011\": {\"Name Of Product\": \"Maggi11\", \"Mfg date\": \"07-02-21\", \"Exp date\": \"07-11-21\", \"Category\": \"Instant Food\", \"Price in rupees\": 21.0, \"Qty in Stock\": 500}, \"12121\": {\"Name Of Product\": \"Maggi12\", \"Mfg date\": \"07-02-21\", \"Exp date\": \"07-11-21\", \"Category\": \"Soft Drinks\", \"Price in rupees\": 21.0, \"Qty in Stock\": 500}, \"13131\": {\"Name Of Product\": \"Maggi13\", \"Mfg date\": \"07-02-21\", \"Exp date\": \"07-11-21\", \"Category\": \"Instant Food\", \"Price in rupees\": 21.0, \"Qty in Stock\": 500}, \"14141\": {\"Name Of Product\": \"Maggi14\", \"Mfg date\": \"07-02-21\", \"Exp date\": \"07-11-21\", \"Category\": \"Instant Food\", \"Price in rupees\": 21.0, \"Qty in Stock\": 500}, \"15151\": {\"Name Of Product\": \"Maggi15\", \"Mfg date\": \"07-02-21\", \"Exp date\": \"07-11-21\", \"Category\": \"Instant Food\", \"Price in rupees\": 21.0, \"Qty in Stock\": 500}, \"16161\": {\"Name Of Product\": \"Maggi16\", \"Mfg date\": \"07-02-21\", \"Exp date\": \"07-11-21\", \"Category\": \"Instant Food\", \"Price in rupees\": 21.0, \"Qty in Stock\": 500}, \"17171\": {\"Name Of Product\": \"Maggi17\", \"Mfg date\": \"07-02-21\", \"Exp date\": \"07-11-21\", \"Category\": \"Ration\", \"Price in rupees\": 21.0, \"Qty in Stock\": 500}, \"18181\": {\"Name Of Product\": \"Maggi18\", \"Mfg date\": \"07-02-21\", \"Exp date\": \"07-11-21\", \"Category\": \"Instant Food\", \"Price in rupees\": 21.0, \"Qty in Stock\": 500}, \"19191\": {\"Name Of Product\": \"Maggi19\", \"Mfg date\": \"07-02-21\", \"Exp date\": \"07-11-21\", \"Category\": \"Sweets\", \"Price in rupees\": 21.0, \"Qty in Stock\": 500}, \"20202\": {\"Name Of Product\": \"Maggi20\", \"Mfg date\": \"07-02-21\", \"Exp date\": \"07-11-21\", \"Category\": \"Instant Food\", \"Price in rupees\": 21.0, \"Qty in Stock\": 500}, \"21212\": {\"Name Of Product\": \"Maggi21\", \"Mfg date\": \"07-02-21\", \"Exp date\": \"07-11-21\", \"Category\": \"Candies\", \"Price in rupees\": 21.0, \"Qty in Stock\": 500}, \"22022\": {\"Name Of Product\": \"Maggi22\", \"Mfg date\": \"07-02-21\", \"Exp date\": \"07-11-21\", \"Category\": \"Instant Food\", \"Price in rupees\": 21.0, \"Qty in Stock\": 500}, \"23232\": {\"Name Of Product\": \"Maggi23\", \"Mfg date\": \"07-02-21\", \"Exp date\": \"07-11-21\", \"Category\": \"Snacks\", \"Price in rupees\": 21.0, \"Qty in Stock\": 500}, \"24242\": {\"Name Of Product\": \"Maggi24\", \"Mfg date\": \"07-02-21\", \"Exp date\": \"07-11-21\", \"Category\": \"Chocolates\", \"Price in rupees\": 21.0, \"Qty in Stock\": 500}, \"25252\": {\"Name Of Product\": \"Maggi25\", \"Mfg date\": \"07-02-21\", \"Exp date\": \"07-11-21\", \"Category\": \"Breakfast items\", \"Price in rupees\": 21.0, \"Qty in Stock\": 500}, \"26262\": {\"Name Of Product\": \"Maggi26\", \"Mfg date\": \"07-02-21\", \"Exp date\": \"07-11-21\", \"Category\": \"Fast food\", \"Price in rupees\": 21.0, \"Qty in Stock\": 500}, \"27272\": {\"Name Of Product\": \"Maggi27\", \"Mfg date\": \"07-02-21\", \"Exp date\": \"07-11-21\", \"Category\": \"Instant Food\", \"Price in rupees\": 21.0, \"Qty in Stock\": 500}, \"28282\": {\"Name Of Product\": \"Maggi28\", \"Mfg date\": \"07-02-21\", \"Exp date\": \"07-11-21\", \"Category\": \"Soft drinks\", \"Price in rupees\": 21.0, \"Qty in Stock\": 500}, \"29292\": {\"Name Of Product\": \"Maggi29\", \"Mfg date\": \"07-02-21\", \"Exp date\": \"07-11-21\", \"Category\": \"Instant Food\", \"Price in rupees\": 21.0, \"Qty in Stock\": 500}, \"30303\": {\"Name Of Product\": \"Maggi30\", \"Mfg date\": \"07-02-21\", \"Exp date\": \"07-11-21\", \"Category\": \"Instant Food\", \"Price in rupees\": 21.0, \"Qty in Stock\": 500}}\n"
          ]
        }
      ]
    },
    {
      "cell_type": "code",
      "metadata": {
        "colab": {
          "base_uri": "https://localhost:8080/"
        },
        "id": "4ecDmsAcB2b7",
        "outputId": "691e6e5d-8d42-4f26-948f-4f138b4814b7"
      },
      "source": [
        "record"
      ],
      "execution_count": 36,
      "outputs": [
        {
          "output_type": "execute_result",
          "data": {
            "text/plain": [
              "{10101: {'Category': 'Instant Food',\n",
              "  'Exp date': '07-11-21',\n",
              "  'Mfg date': '07-02-21',\n",
              "  'Name Of Product': 'Maggi10',\n",
              "  'Price in rupees': 21.0,\n",
              "  'Qty in Stock': 500},\n",
              " 11011: {'Category': 'Instant Food',\n",
              "  'Exp date': '07-11-21',\n",
              "  'Mfg date': '07-02-21',\n",
              "  'Name Of Product': 'Maggi11',\n",
              "  'Price in rupees': 21.0,\n",
              "  'Qty in Stock': 500},\n",
              " 11111: {'Category': 'Instant Food',\n",
              "  'Exp date': '07-11-21',\n",
              "  'Mfg date': '07-02-21',\n",
              "  'Name Of Product': 'Maggi1',\n",
              "  'Price in rupees': 21.0,\n",
              "  'Qty in Stock': 500},\n",
              " 12121: {'Category': 'Soft Drinks',\n",
              "  'Exp date': '07-11-21',\n",
              "  'Mfg date': '07-02-21',\n",
              "  'Name Of Product': 'Maggi12',\n",
              "  'Price in rupees': 21.0,\n",
              "  'Qty in Stock': 500},\n",
              " 13131: {'Category': 'Instant Food',\n",
              "  'Exp date': '07-11-21',\n",
              "  'Mfg date': '07-02-21',\n",
              "  'Name Of Product': 'Maggi13',\n",
              "  'Price in rupees': 21.0,\n",
              "  'Qty in Stock': 500},\n",
              " 14141: {'Category': 'Instant Food',\n",
              "  'Exp date': '07-11-21',\n",
              "  'Mfg date': '07-02-21',\n",
              "  'Name Of Product': 'Maggi14',\n",
              "  'Price in rupees': 21.0,\n",
              "  'Qty in Stock': 500},\n",
              " 15151: {'Category': 'Instant Food',\n",
              "  'Exp date': '07-11-21',\n",
              "  'Mfg date': '07-02-21',\n",
              "  'Name Of Product': 'Maggi15',\n",
              "  'Price in rupees': 21.0,\n",
              "  'Qty in Stock': 500},\n",
              " 16161: {'Category': 'Instant Food',\n",
              "  'Exp date': '07-11-21',\n",
              "  'Mfg date': '07-02-21',\n",
              "  'Name Of Product': 'Maggi16',\n",
              "  'Price in rupees': 21.0,\n",
              "  'Qty in Stock': 500},\n",
              " 17171: {'Category': 'Ration',\n",
              "  'Exp date': '07-11-21',\n",
              "  'Mfg date': '07-02-21',\n",
              "  'Name Of Product': 'Maggi17',\n",
              "  'Price in rupees': 21.0,\n",
              "  'Qty in Stock': 500},\n",
              " 18181: {'Category': 'Instant Food',\n",
              "  'Exp date': '07-11-21',\n",
              "  'Mfg date': '07-02-21',\n",
              "  'Name Of Product': 'Maggi18',\n",
              "  'Price in rupees': 21.0,\n",
              "  'Qty in Stock': 500},\n",
              " 19191: {'Category': 'Sweets',\n",
              "  'Exp date': '07-11-21',\n",
              "  'Mfg date': '07-02-21',\n",
              "  'Name Of Product': 'Maggi19',\n",
              "  'Price in rupees': 21.0,\n",
              "  'Qty in Stock': 500},\n",
              " 20202: {'Category': 'Instant Food',\n",
              "  'Exp date': '07-11-21',\n",
              "  'Mfg date': '07-02-21',\n",
              "  'Name Of Product': 'Maggi20',\n",
              "  'Price in rupees': 21.0,\n",
              "  'Qty in Stock': 500},\n",
              " 21212: {'Category': 'Candies',\n",
              "  'Exp date': '07-11-21',\n",
              "  'Mfg date': '07-02-21',\n",
              "  'Name Of Product': 'Maggi21',\n",
              "  'Price in rupees': 21.0,\n",
              "  'Qty in Stock': 500},\n",
              " 22022: {'Category': 'Instant Food',\n",
              "  'Exp date': '07-11-21',\n",
              "  'Mfg date': '07-02-21',\n",
              "  'Name Of Product': 'Maggi22',\n",
              "  'Price in rupees': 21.0,\n",
              "  'Qty in Stock': 500},\n",
              " 22222: {'Category': 'Snacks',\n",
              "  'Exp date': '07-11-21',\n",
              "  'Mfg date': '07-02-21',\n",
              "  'Name Of Product': 'Maggi2',\n",
              "  'Price in rupees': 21.0,\n",
              "  'Qty in Stock': 500},\n",
              " 23232: {'Category': 'Snacks',\n",
              "  'Exp date': '07-11-21',\n",
              "  'Mfg date': '07-02-21',\n",
              "  'Name Of Product': 'Maggi23',\n",
              "  'Price in rupees': 21.0,\n",
              "  'Qty in Stock': 500},\n",
              " 24242: {'Category': 'Chocolates',\n",
              "  'Exp date': '07-11-21',\n",
              "  'Mfg date': '07-02-21',\n",
              "  'Name Of Product': 'Maggi24',\n",
              "  'Price in rupees': 21.0,\n",
              "  'Qty in Stock': 500},\n",
              " 25252: {'Category': 'Breakfast items',\n",
              "  'Exp date': '07-11-21',\n",
              "  'Mfg date': '07-02-21',\n",
              "  'Name Of Product': 'Maggi25',\n",
              "  'Price in rupees': 21.0,\n",
              "  'Qty in Stock': 500},\n",
              " 26262: {'Category': 'Fast food',\n",
              "  'Exp date': '07-11-21',\n",
              "  'Mfg date': '07-02-21',\n",
              "  'Name Of Product': 'Maggi26',\n",
              "  'Price in rupees': 21.0,\n",
              "  'Qty in Stock': 500},\n",
              " 27272: {'Category': 'Instant Food',\n",
              "  'Exp date': '07-11-21',\n",
              "  'Mfg date': '07-02-21',\n",
              "  'Name Of Product': 'Maggi27',\n",
              "  'Price in rupees': 21.0,\n",
              "  'Qty in Stock': 500},\n",
              " 28282: {'Category': 'Soft drinks',\n",
              "  'Exp date': '07-11-21',\n",
              "  'Mfg date': '07-02-21',\n",
              "  'Name Of Product': 'Maggi28',\n",
              "  'Price in rupees': 21.0,\n",
              "  'Qty in Stock': 500},\n",
              " 29292: {'Category': 'Instant Food',\n",
              "  'Exp date': '07-11-21',\n",
              "  'Mfg date': '07-02-21',\n",
              "  'Name Of Product': 'Maggi29',\n",
              "  'Price in rupees': 21.0,\n",
              "  'Qty in Stock': 500},\n",
              " 30303: {'Category': 'Instant Food',\n",
              "  'Exp date': '07-11-21',\n",
              "  'Mfg date': '07-02-21',\n",
              "  'Name Of Product': 'Maggi30',\n",
              "  'Price in rupees': 21.0,\n",
              "  'Qty in Stock': 500},\n",
              " 33333: {'Category': 'Instant Food',\n",
              "  'Exp date': '07-11-21',\n",
              "  'Mfg date': '07-02-21',\n",
              "  'Name Of Product': 'Maggi3',\n",
              "  'Price in rupees': 21.0,\n",
              "  'Qty in Stock': 500},\n",
              " 44444: {'Category': 'Dessert',\n",
              "  'Exp date': '07-11-21',\n",
              "  'Mfg date': '07-02-21',\n",
              "  'Name Of Product': 'Maggi4',\n",
              "  'Price in rupees': 21.0,\n",
              "  'Qty in Stock': 500},\n",
              " 55555: {'Category': 'Legumes',\n",
              "  'Exp date': '07-11-21',\n",
              "  'Mfg date': '07-02-21',\n",
              "  'Name Of Product': 'Maggi5',\n",
              "  'Price in rupees': 21.0,\n",
              "  'Qty in Stock': 500},\n",
              " 66666: {'Category': 'Instant Food',\n",
              "  'Exp date': '07-11-21',\n",
              "  'Mfg date': '07-02-21',\n",
              "  'Name Of Product': 'Maggi6',\n",
              "  'Price in rupees': 21.0,\n",
              "  'Qty in Stock': 500},\n",
              " 77777: {'Category': 'Instant Food',\n",
              "  'Exp date': '07-11-21',\n",
              "  'Mfg date': '07-02-21',\n",
              "  'Name Of Product': 'Maggi7',\n",
              "  'Price in rupees': 21.0,\n",
              "  'Qty in Stock': 500},\n",
              " 88888: {'Category': 'Instant Food',\n",
              "  'Exp date': '07-11-21',\n",
              "  'Mfg date': '07-02-21',\n",
              "  'Name Of Product': 'Maggi8',\n",
              "  'Price in rupees': 21.0,\n",
              "  'Qty in Stock': 500},\n",
              " 99999: {'Category': 'Beverages',\n",
              "  'Exp date': '07-11-21',\n",
              "  'Mfg date': '07-02-21',\n",
              "  'Name Of Product': 'Maggi9',\n",
              "  'Price in rupees': 21.0,\n",
              "  'Qty in Stock': 500}}"
            ]
          },
          "metadata": {},
          "execution_count": 36
        }
      ]
    },
    {
      "cell_type": "code",
      "metadata": {
        "colab": {
          "base_uri": "https://localhost:8080/"
        },
        "id": "KpO07YZmJs4z",
        "outputId": "f56aff15-f487-4d54-f049-a5203a58adc3"
      },
      "source": [
        "\n",
        "#FUNCTIONALITIES\n",
        "\n",
        "NoOfItems = int(input(\"Enter the number of items bought by the customer \"))\n",
        "    \n",
        "\n",
        "for j in range(1, NoOfItems+1):\n",
        "  prodID = input(\"Enter the product ID: \")\n",
        "  qty = int(input(\"Enter the qty to be purchased: \"))\n",
        "  \n",
        "\n",
        "\n",
        "  for i in record.keys():\n",
        "           \n",
        "     if(i == prodID):\n",
        "       print(\"********************************************************\")\n",
        "       print(\"DETAILS OF THE PRODUCT:-\")\n",
        "       print(\"********************************************************\")\n",
        "       print(\"Product ID: \", i)\n",
        "       print(\"Name Of Product: \", record[i]['Name Of Product'])\n",
        "       print(\"Category: \", record[i]['Category'])\n",
        "       print(\"Date Of Manufacture: \", record[i]['Mfg date'])\n",
        "       print(\"Expiry Date: \", record[i]['Exp date'])\n",
        "       print(\"Cost Price (in rupees): \", record[i]['Price in rupees'])\n",
        "       print(\"Stock available: \", record[i]['Qty in Stock'])\n",
        "       print(\"Quantity of \", record[i]['Name Of Product'], \"purchased by the customer: \", qty)\n",
        "       print(record[i]['Name Of Product'], \"left in inventory: \", record[i]['Qty in Stock']-qty)    \n",
        "       print(\"********************************************************\")\n",
        "       print(\"Amount to be paid: \", qty*record[i]['Price in rupees'])\n",
        "       print(\"********************************************************\")\n",
        "\n",
        "       if(qty > record[i]['Qty in Stock']):\n",
        "          print(\"We have \", qty-record[i]['Qty in Stock'], \" less packets of \", record[i]['Name Of Product'])\n",
        "          answer = input(\"Would you still like to buy the available quantity?\")\n",
        "          if(answer == \"yes\"):\n",
        "            print(\"Amount to be paid: \", record[i]['Qty in Stock']*record[i]['Price in rupees']) \n",
        "            record[i]['Qty in Stock'] =  0 \n",
        "  \n",
        "          else:\n",
        "             print(\"Okay! Thanks for coming.\")  1\n",
        "       else:       \n",
        "          record[i]['Qty in Stock'] =  record[i]['Qty in Stock']-qty   \n",
        "\n",
        "#UPDATION IN INVENTORY\n",
        "import json\n",
        "js1 = json.dumps(record)\n",
        "fd1 = open(\"record.json\", 'w')\n",
        "fd1.write(js1)\n",
        "fd1.close()\n",
        "fd1 = open(\"record.json\", 'r')\n",
        "newRecord = fd1.read()\n",
        "fd1.close()\n",
        "print(\"New Record in Inventory: \", newRecord)\n",
        "\n",
        "\n",
        "       \n",
        "\n",
        "\n",
        " \n",
        "\n",
        "\n",
        "\n",
        "      "
      ],
      "execution_count": 27,
      "outputs": [
        {
          "output_type": "stream",
          "name": "stdout",
          "text": [
            "Enter the number of items bought by the customer 1\n",
            "Enter the product ID: 11111\n",
            "Enter the qty to be purchased: 600\n",
            "********************************************************\n",
            "DETAILS OF THE PRODUCT:-\n",
            "********************************************************\n",
            "Product ID:  11111\n",
            "Name Of Product:  Maggi1\n",
            "Category:  Instant Food\n",
            "Date Of Manufacture:  07-02-21\n",
            "Expiry Date:  07-11-21\n",
            "Cost Price (in rupees):  21.0\n",
            "Stock available:  0\n",
            "Quantity of  Maggi1 purchased by the customer:  600\n",
            "Maggi1 left in inventory:  -600\n",
            "********************************************************\n",
            "Amount to be paid:  12600.0\n",
            "********************************************************\n",
            "We have  600  less packets of  Maggi1\n",
            "Would you still like to buy the available quantity?yes\n",
            "Amount to be paid:  0.0\n",
            "New Record in Inventory:  {\"11111\": {\"Name Of Product\": \"Maggi1\", \"Mfg date\": \"07-02-21\", \"Exp date\": \"07-11-21\", \"Category\": \"Instant Food\", \"Price in rupees\": 21.0, \"Qty in Stock\": 0}, \"22222\": {\"Name Of Product\": \"Maggi2\", \"Mfg date\": \"07-02-21\", \"Exp date\": \"07-11-21\", \"Category\": \"Snacks\", \"Price in rupees\": 21.0, \"Qty in Stock\": 500}, \"33333\": {\"Name Of Product\": \"Maggi3\", \"Mfg date\": \"07-02-21\", \"Exp date\": \"07-11-21\", \"Category\": \"Instant Food\", \"Price in rupees\": 21.0, \"Qty in Stock\": 500}, \"44444\": {\"Name Of Product\": \"Maggi4\", \"Mfg date\": \"07-02-21\", \"Exp date\": \"07-11-21\", \"Category\": \"Dessert\", \"Price in rupees\": 21.0, \"Qty in Stock\": 500}, \"55555\": {\"Name Of Product\": \"Maggi5\", \"Mfg date\": \"07-02-21\", \"Exp date\": \"07-11-21\", \"Category\": \"Legumes\", \"Price in rupees\": 21.0, \"Qty in Stock\": 500}, \"66666\": {\"Name Of Product\": \"Maggi6\", \"Mfg date\": \"07-02-21\", \"Exp date\": \"07-11-21\", \"Category\": \"Instant Food\", \"Price in rupees\": 21.0, \"Qty in Stock\": 500}, \"77777\": {\"Name Of Product\": \"Maggi7\", \"Mfg date\": \"07-02-21\", \"Exp date\": \"07-11-21\", \"Category\": \"Instant Food\", \"Price in rupees\": 21.0, \"Qty in Stock\": 500}, \"88888\": {\"Name Of Product\": \"Maggi8\", \"Mfg date\": \"07-02-21\", \"Exp date\": \"07-11-21\", \"Category\": \"Instant Food\", \"Price in rupees\": 21.0, \"Qty in Stock\": 500}, \"99999\": {\"Name Of Product\": \"Maggi9\", \"Mfg date\": \"07-02-21\", \"Exp date\": \"07-11-21\", \"Category\": \"Beverages\", \"Price in rupees\": 21.0, \"Qty in Stock\": 500}, \"10101\": {\"Name Of Product\": \"Maggi10\", \"Mfg date\": \"07-02-21\", \"Exp date\": \"07-11-21\", \"Category\": \"Instant Food\", \"Price in rupees\": 21.0, \"Qty in Stock\": 500}, \"11011\": {\"Name Of Product\": \"Maggi11\", \"Mfg date\": \"07-02-21\", \"Exp date\": \"07-11-21\", \"Category\": \"Instant Food\", \"Price in rupees\": 21.0, \"Qty in Stock\": 500}, \"12121\": {\"Name Of Product\": \"Maggi12\", \"Mfg date\": \"07-02-21\", \"Exp date\": \"07-11-21\", \"Category\": \"Soft Drinks\", \"Price in rupees\": 21.0, \"Qty in Stock\": 500}, \"13131\": {\"Name Of Product\": \"Maggi13\", \"Mfg date\": \"07-02-21\", \"Exp date\": \"07-11-21\", \"Category\": \"Instant Food\", \"Price in rupees\": 21.0, \"Qty in Stock\": 500}, \"14141\": {\"Name Of Product\": \"Maggi14\", \"Mfg date\": \"07-02-21\", \"Exp date\": \"07-11-21\", \"Category\": \"Instant Food\", \"Price in rupees\": 21.0, \"Qty in Stock\": 500}, \"15151\": {\"Name Of Product\": \"Maggi15\", \"Mfg date\": \"07-02-21\", \"Exp date\": \"07-11-21\", \"Category\": \"Instant Food\", \"Price in rupees\": 21.0, \"Qty in Stock\": 500}, \"16161\": {\"Name Of Product\": \"Maggi16\", \"Mfg date\": \"07-02-21\", \"Exp date\": \"07-11-21\", \"Category\": \"Instant Food\", \"Price in rupees\": 21.0, \"Qty in Stock\": 500}, \"17171\": {\"Name Of Product\": \"Maggi17\", \"Mfg date\": \"07-02-21\", \"Exp date\": \"07-11-21\", \"Category\": \"Ration\", \"Price in rupees\": 21.0, \"Qty in Stock\": 500}, \"18181\": {\"Name Of Product\": \"Maggi18\", \"Mfg date\": \"07-02-21\", \"Exp date\": \"07-11-21\", \"Category\": \"Instant Food\", \"Price in rupees\": 21.0, \"Qty in Stock\": 500}, \"19191\": {\"Name Of Product\": \"Maggi19\", \"Mfg date\": \"07-02-21\", \"Exp date\": \"07-11-21\", \"Category\": \"Sweets\", \"Price in rupees\": 21.0, \"Qty in Stock\": 500}, \"20202\": {\"Name Of Product\": \"Maggi20\", \"Mfg date\": \"07-02-21\", \"Exp date\": \"07-11-21\", \"Category\": \"Instant Food\", \"Price in rupees\": 21.0, \"Qty in Stock\": 500}, \"21212\": {\"Name Of Product\": \"Maggi21\", \"Mfg date\": \"07-02-21\", \"Exp date\": \"07-11-21\", \"Category\": \"Candies\", \"Price in rupees\": 21.0, \"Qty in Stock\": 500}, \"22022\": {\"Name Of Product\": \"Maggi22\", \"Mfg date\": \"07-02-21\", \"Exp date\": \"07-11-21\", \"Category\": \"Instant Food\", \"Price in rupees\": 21.0, \"Qty in Stock\": 500}, \"23232\": {\"Name Of Product\": \"Maggi23\", \"Mfg date\": \"07-02-21\", \"Exp date\": \"07-11-21\", \"Category\": \"Snacks\", \"Price in rupees\": 21.0, \"Qty in Stock\": 500}, \"24242\": {\"Name Of Product\": \"Maggi24\", \"Mfg date\": \"07-02-21\", \"Exp date\": \"07-11-21\", \"Category\": \"Chocolates\", \"Price in rupees\": 21.0, \"Qty in Stock\": 500}, \"25252\": {\"Name Of Product\": \"Maggi25\", \"Mfg date\": \"07-02-21\", \"Exp date\": \"07-11-21\", \"Category\": \"Breakfast items\", \"Price in rupees\": 21.0, \"Qty in Stock\": 500}, \"26262\": {\"Name Of Product\": \"Maggi26\", \"Mfg date\": \"07-02-21\", \"Exp date\": \"07-11-21\", \"Category\": \"Fast food\", \"Price in rupees\": 21.0, \"Qty in Stock\": 500}, \"27272\": {\"Name Of Product\": \"Maggi27\", \"Mfg date\": \"07-02-21\", \"Exp date\": \"07-11-21\", \"Category\": \"Instant Food\", \"Price in rupees\": 21.0, \"Qty in Stock\": 500}, \"28282\": {\"Name Of Product\": \"Maggi28\", \"Mfg date\": \"07-02-21\", \"Exp date\": \"07-11-21\", \"Category\": \"Soft drinks\", \"Price in rupees\": 21.0, \"Qty in Stock\": 500}, \"29292\": {\"Name Of Product\": \"Maggi29\", \"Mfg date\": \"07-02-21\", \"Exp date\": \"07-11-21\", \"Category\": \"Instant Food\", \"Price in rupees\": 21.0, \"Qty in Stock\": 500}, \"30303\": {\"Name Of Product\": \"Maggi30\", \"Mfg date\": \"07-02-21\", \"Exp date\": \"07-11-21\", \"Category\": \"Instant Food\", \"Price in rupees\": 21.0, \"Qty in Stock\": 500}}\n"
          ]
        }
      ]
    },
    {
      "cell_type": "code",
      "metadata": {
        "id": "3cD2TFuHZ-2f"
      },
      "source": [
        ""
      ],
      "execution_count": null,
      "outputs": []
    },
    {
      "cell_type": "code",
      "metadata": {
        "id": "Ser06sOIZ-6A"
      },
      "source": [
        ""
      ],
      "execution_count": null,
      "outputs": []
    },
    {
      "cell_type": "code",
      "metadata": {
        "id": "y7ejLzNwZ_E8"
      },
      "source": [
        ""
      ],
      "execution_count": null,
      "outputs": []
    },
    {
      "cell_type": "code",
      "metadata": {
        "id": "3nW9aM_GJtBo"
      },
      "source": [
        ""
      ],
      "execution_count": null,
      "outputs": []
    },
    {
      "cell_type": "code",
      "metadata": {
        "id": "pLtVI1ZHJtTU"
      },
      "source": [
        ""
      ],
      "execution_count": null,
      "outputs": []
    },
    {
      "cell_type": "code",
      "metadata": {
        "id": "llNpm-vyJtWD"
      },
      "source": [
        ""
      ],
      "execution_count": null,
      "outputs": []
    },
    {
      "cell_type": "code",
      "metadata": {
        "id": "JerP4ZotJtYV"
      },
      "source": [
        ""
      ],
      "execution_count": null,
      "outputs": []
    },
    {
      "cell_type": "code",
      "metadata": {
        "id": "0LiJkEEiJta7"
      },
      "source": [
        ""
      ],
      "execution_count": null,
      "outputs": []
    },
    {
      "cell_type": "code",
      "metadata": {
        "id": "tZdpxJijJtdT"
      },
      "source": [
        ""
      ],
      "execution_count": null,
      "outputs": []
    },
    {
      "cell_type": "code",
      "metadata": {
        "id": "Wl9GdkrkJtgT"
      },
      "source": [
        ""
      ],
      "execution_count": null,
      "outputs": []
    },
    {
      "cell_type": "code",
      "metadata": {
        "id": "xobTSLjRJtjs"
      },
      "source": [
        ""
      ],
      "execution_count": null,
      "outputs": []
    },
    {
      "cell_type": "code",
      "metadata": {
        "id": "aw3y1dW6JAtb"
      },
      "source": [
        ""
      ],
      "execution_count": null,
      "outputs": []
    }
  ]
}